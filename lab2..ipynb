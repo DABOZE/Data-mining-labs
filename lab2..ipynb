{
 "cells": [
  {
   "cell_type": "code",
   "execution_count": 1,
   "id": "140cc686-72d2-4051-9e55-420321bf4300",
   "metadata": {
    "jupyter": {
     "source_hidden": true
    }
   },
   "outputs": [
    {
     "name": "stdout",
     "output_type": "stream",
     "text": [
      "[1 2 3 4 5]\n"
     ]
    }
   ],
   "source": [
    "import numpy as np\n",
    "lst = [1,2,3,4,5]\n",
    "my_array = np.array(lst)\n",
    "print(my_array)"
   ]
  },
  {
   "cell_type": "code",
   "execution_count": 2,
   "id": "76a52d88-3f48-428c-ba2b-bc99ee5e31ba",
   "metadata": {},
   "outputs": [
    {
     "name": "stdout",
     "output_type": "stream",
     "text": [
      "[1 2 3 4 5]\n",
      "(5,)\n"
     ]
    }
   ],
   "source": [
    "import numpy as np\n",
    "lst = [1,2,3,4,5]\n",
    "my_array = np.array(lst)\n",
    "print(my_array)\n",
    "print(my_array.shape)"
   ]
  },
  {
   "cell_type": "code",
   "execution_count": 3,
   "id": "dc8ff385-45fe-4f78-b97b-94295f9a0b54",
   "metadata": {},
   "outputs": [
    {
     "name": "stdout",
     "output_type": "stream",
     "text": [
      "[1 2 3 4 5]\n",
      "(5,)\n",
      "[[1]\n",
      " [2]\n",
      " [3]\n",
      " [4]\n",
      " [5]]\n"
     ]
    }
   ],
   "source": [
    "import numpy as np\n",
    "lst = [1,2,3,4,5]\n",
    "my_array = np.array(lst)\n",
    "print(my_array)\n",
    "print(my_array.shape)\n",
    "reshaped_array=my_array.reshape((5,1))\n",
    "print(reshaped_array)"
   ]
  },
  {
   "cell_type": "code",
   "execution_count": 4,
   "id": "e0e3ce5a-1f9e-47bf-b7b6-e22c35924b28",
   "metadata": {},
   "outputs": [
    {
     "name": "stdout",
     "output_type": "stream",
     "text": [
      "[11 12 13 14 15]\n"
     ]
    }
   ],
   "source": [
    "result_array=my_array+10\n",
    "print(result_array)"
   ]
  },
  {
   "cell_type": "code",
   "execution_count": 5,
   "id": "f515d8c5-7fa8-4a27-b6f2-a2f325466e51",
   "metadata": {},
   "outputs": [
    {
     "name": "stdout",
     "output_type": "stream",
     "text": [
      "3\n",
      "[2 3 4]\n"
     ]
    }
   ],
   "source": [
    "print(my_array[2])\n",
    "sub_array=my_array[1:4]\n",
    "print(sub_array)\n"
   ]
  },
  {
   "cell_type": "code",
   "execution_count": 6,
   "id": "d8e260e7-f027-40eb-a7b1-6c8d6b4bc2de",
   "metadata": {},
   "outputs": [
    {
     "name": "stdout",
     "output_type": "stream",
     "text": [
      "15\n"
     ]
    }
   ],
   "source": [
    "total_sum = np.sum(my_array)\n",
    "print(total_sum)"
   ]
  },
  {
   "cell_type": "code",
   "execution_count": 7,
   "id": "d8ab9c60-5162-42f2-af9e-1501a9a83222",
   "metadata": {},
   "outputs": [
    {
     "name": "stdout",
     "output_type": "stream",
     "text": [
      "3.0\n"
     ]
    }
   ],
   "source": [
    "mean_value=np.mean(my_array)\n",
    "print(mean_value)"
   ]
  },
  {
   "cell_type": "code",
   "execution_count": 9,
   "id": "12e94049-3b11-4223-93b3-b2151d4e2d8a",
   "metadata": {},
   "outputs": [
    {
     "name": "stdout",
     "output_type": "stream",
     "text": [
      "0    10\n",
      "1    20\n",
      "2    30\n",
      "3    40\n",
      "4    50\n",
      "dtype: int64\n"
     ]
    }
   ],
   "source": [
    "import pandas as pd\n",
    "my_list=[10,20,30,40,50]\n",
    "my_series=pd.Series(my_list)\n",
    "print(my_series)"
   ]
  },
  {
   "cell_type": "code",
   "execution_count": 10,
   "id": "15024532-e600-4aba-8460-a0bdee61070a",
   "metadata": {},
   "outputs": [
    {
     "name": "stdout",
     "output_type": "stream",
     "text": [
      "        Name  Roll_no  Age  M1  M2  M3  M4\n",
      "0     MANISH        1   19  88  98  88  88\n",
      "1      ROHAN        2   19  96  96  96  96\n",
      "2      SAHIL        3   18  85  85  85  85\n",
      "3       ANSU        4   19  73  73  73  73\n",
      "4  SUBRAKANT        5   19  64  74  64  64\n",
      "5    DEBJEET        6   19  39  39  39  39\n",
      "6    ASHWINI        7   20  54  64  54  54\n",
      "7  SUBRANSHU        8   19  63  63  63  63\n",
      "8       SOLO        9   19  45  45  45  45\n",
      "9      SUVRA       10   19  99  99  99  99\n"
     ]
    }
   ],
   "source": [
    "student={'Name':['MANISH','ROHAN','SAHIL','ANSU','SUBRAKANT','DEBJEET','ASHWINI','SUBRANSHU','SOLO','SUVRA'],\n",
    "         'Roll_no':[1,2,3,4,5,6,7,8,9,10],\n",
    "         'Age':[19,19,18,19,19,19,20,19,19,19],\n",
    "         'M1':[88,96,85,73,64,39,54,63,45,99],\n",
    "         'M2':[98,96,85,73,74,39,64,63,45,99],\n",
    "         'M3':[88,96,85,73,64,39,54,63,45,99],\n",
    "         'M4':[88,96,85,73,64,39,54,63,45,99]}\n",
    "my_dataframe=pd.DataFrame(student)\n",
    "print(my_dataframe)"
   ]
  },
  {
   "cell_type": "code",
   "execution_count": 11,
   "id": "a35d2b5b-a1ab-4d4b-ba76-fe2cf29046c7",
   "metadata": {},
   "outputs": [
    {
     "name": "stdout",
     "output_type": "stream",
     "text": [
      "0    19\n",
      "1    19\n",
      "2    18\n",
      "3    19\n",
      "4    19\n",
      "5    19\n",
      "6    20\n",
      "7    19\n",
      "8    19\n",
      "9    19\n",
      "Name: Age, dtype: int64\n",
      "Name       ROHAN\n",
      "Roll_no        2\n",
      "Age           19\n",
      "M1            96\n",
      "M2            96\n",
      "M3            96\n",
      "M4            96\n",
      "Name: 1, dtype: object\n"
     ]
    }
   ],
   "source": [
    "age=my_dataframe['Age']\n",
    "print(age)\n",
    "person_data=my_dataframe.loc[1]\n",
    "print(person_data)"
   ]
  },
  {
   "cell_type": "code",
   "execution_count": 12,
   "id": "ced08a49-d180-420e-b821-2a6c9843c41e",
   "metadata": {},
   "outputs": [
    {
     "name": "stdout",
     "output_type": "stream",
     "text": [
      "        Name  Roll_no  Age  M1  M2  M3  M4  Avg_marks\n",
      "0     MANISH        1   19  88  98  88  88       90.5\n",
      "1      ROHAN        2   19  96  96  96  96       96.0\n",
      "2      SAHIL        3   18  85  85  85  85       85.0\n",
      "3       ANSU        4   19  73  73  73  73       73.0\n",
      "4  SUBRAKANT        5   19  64  74  64  64       66.5\n",
      "5    DEBJEET        6   19  39  39  39  39       39.0\n",
      "6    ASHWINI        7   20  54  64  54  54       56.5\n",
      "7  SUBRANSHU        8   19  63  63  63  63       63.0\n",
      "8       SOLO        9   19  45  45  45  45       45.0\n",
      "9      SUVRA       10   19  99  99  99  99       99.0\n"
     ]
    }
   ],
   "source": [
    "my_dataframe['Avg_marks']=my_dataframe[['M1','M2','M3','M4']].mean(axis=1)\n",
    "print(my_dataframe)"
   ]
  },
  {
   "cell_type": "code",
   "execution_count": 13,
   "id": "3b1983d1-130f-462d-8aa8-d52904148d5b",
   "metadata": {},
   "outputs": [
    {
     "name": "stdout",
     "output_type": "stream",
     "text": [
      "        Name  Roll_no  Age  M1  M2  M3  M4 Hs/Ds\n",
      "0     MANISH        1   19  88  98  88  88    Hs\n",
      "1      ROHAN        2   19  96  96  96  96    Hs\n",
      "2      SAHIL        3   18  85  85  85  85    Ds\n",
      "3       ANSU        4   19  73  73  73  73    Ds\n",
      "4  SUBRAKANT        5   19  64  74  64  64    Ds\n",
      "5    DEBJEET        6   19  39  39  39  39    Ds\n",
      "6    ASHWINI        7   20  54  64  54  54    Ds\n",
      "7  SUBRANSHU        8   19  63  63  63  63    Hs\n",
      "8       SOLO        9   19  45  45  45  45    Hs\n",
      "9      SUVRA       10   19  99  99  99  99    Hs\n"
     ]
    }
   ],
   "source": [
    "import pandas as pd\n",
    "student={'Name':['MANISH','ROHAN','SAHIL','ANSU','SUBRAKANT','DEBJEET','ASHWINI','SUBRANSHU','SOLO','SUVRA'],\n",
    "         'Roll_no':[1,2,3,4,5,6,7,8,9,10],\n",
    "         'Age':[19,19,18,19,19,19,20,19,19,19],\n",
    "         'M1':[88,96,85,73,64,39,54,63,45,99],\n",
    "         'M2':[98,96,85,73,74,39,64,63,45,99],\n",
    "         'M3':[88,96,85,73,64,39,54,63,45,99],\n",
    "         'M4':[88,96,85,73,64,39,54,63,45,99],\n",
    "        'Hs/Ds':['Hs','Hs','Ds','Ds','Ds','Ds','Ds','Hs','Hs','Hs']}\n",
    "my_dataframe=pd.DataFrame(student)\n",
    "print(my_dataframe)"
   ]
  },
  {
   "cell_type": "code",
   "execution_count": 14,
   "id": "af74ed98-17de-4435-bea7-ae524d2e04fe",
   "metadata": {},
   "outputs": [
    {
     "name": "stdout",
     "output_type": "stream",
     "text": [
      "        Name  Roll_no  Age  M1  M2  M3  M4 Hs/Ds  Avg_marks\n",
      "0     MANISH        1   19  88  98  88  88    Hs       90.5\n",
      "1      ROHAN        2   19  96  96  96  96    Hs       96.0\n",
      "2      SAHIL        3   18  85  85  85  85    Ds       85.0\n",
      "3       ANSU        4   19  73  73  73  73    Ds       73.0\n",
      "4  SUBRAKANT        5   19  64  74  64  64    Ds       66.5\n",
      "5    DEBJEET        6   19  39  39  39  39    Ds       39.0\n",
      "6    ASHWINI        7   20  54  64  54  54    Ds       56.5\n",
      "7  SUBRANSHU        8   19  63  63  63  63    Hs       63.0\n",
      "8       SOLO        9   19  45  45  45  45    Hs       45.0\n",
      "9      SUVRA       10   19  99  99  99  99    Hs       99.0\n"
     ]
    }
   ],
   "source": [
    "my_dataframe['Avg_marks']=my_dataframe[['M1','M2','M3','M4']].mean(axis=1)\n",
    "print(my_dataframe)"
   ]
  },
  {
   "cell_type": "code",
   "execution_count": 15,
   "id": "213973c0-1822-4be2-bee0-47f5c2604305",
   "metadata": {},
   "outputs": [
    {
     "data": {
      "text/html": [
       "<div>\n",
       "<style scoped>\n",
       "    .dataframe tbody tr th:only-of-type {\n",
       "        vertical-align: middle;\n",
       "    }\n",
       "\n",
       "    .dataframe tbody tr th {\n",
       "        vertical-align: top;\n",
       "    }\n",
       "\n",
       "    .dataframe thead th {\n",
       "        text-align: right;\n",
       "    }\n",
       "</style>\n",
       "<table border=\"1\" class=\"dataframe\">\n",
       "  <thead>\n",
       "    <tr style=\"text-align: right;\">\n",
       "      <th></th>\n",
       "      <th>Hs/Ds</th>\n",
       "      <th>Age</th>\n",
       "    </tr>\n",
       "  </thead>\n",
       "  <tbody>\n",
       "    <tr>\n",
       "      <th>0</th>\n",
       "      <td>Ds</td>\n",
       "      <td>19.0</td>\n",
       "    </tr>\n",
       "    <tr>\n",
       "      <th>1</th>\n",
       "      <td>Hs</td>\n",
       "      <td>19.0</td>\n",
       "    </tr>\n",
       "  </tbody>\n",
       "</table>\n",
       "</div>"
      ],
      "text/plain": [
       "  Hs/Ds   Age\n",
       "0    Ds  19.0\n",
       "1    Hs  19.0"
      ]
     },
     "execution_count": 15,
     "metadata": {},
     "output_type": "execute_result"
    }
   ],
   "source": [
    "\n",
    "my_dataframe.groupby('Hs/Ds',as_index=False).Age.mean()"
   ]
  },
  {
   "cell_type": "code",
   "execution_count": null,
   "id": "b1b19428-8d6d-4fe4-bee8-0dba3411b8fa",
   "metadata": {},
   "outputs": [],
   "source": []
  }
 ],
 "metadata": {
  "kernelspec": {
   "display_name": "Python 3 (ipykernel)",
   "language": "python",
   "name": "python3"
  },
  "language_info": {
   "codemirror_mode": {
    "name": "ipython",
    "version": 3
   },
   "file_extension": ".py",
   "mimetype": "text/x-python",
   "name": "python",
   "nbconvert_exporter": "python",
   "pygments_lexer": "ipython3",
   "version": "3.12.2"
  }
 },
 "nbformat": 4,
 "nbformat_minor": 5
}
