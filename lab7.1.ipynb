{
 "cells": [
  {
   "cell_type": "code",
   "execution_count": 2,
   "id": "7615727c-0488-4126-b753-01ea15e2f0cf",
   "metadata": {},
   "outputs": [
    {
     "name": "stdout",
     "output_type": "stream",
     "text": [
      "        Name  Roll_no  Age    M1  M2    M3  M4\n",
      "0     MANISH        1   19  88.0  98  88.0  88\n",
      "1      ROHAN        2   19  96.0  96  96.0  96\n",
      "2      SAHIL        3   18  85.0  85   NaN  85\n",
      "3       ANSU        4   19  73.0  73  73.0  73\n",
      "4  SUBRAKANT        5   19  64.0  74  64.0  64\n",
      "5    DEBJEET        6   19   NaN  39  39.0  39\n",
      "6    ASHWINI        7   20  54.0  64  54.0  54\n",
      "7  SUBRANSHU        8   19  63.0  63  63.0  63\n",
      "8       SOLO        9   19  45.0  45  45.0  45\n",
      "9      SUVRA       10   19  99.0  99  99.0  99\n"
     ]
    }
   ],
   "source": [
    "import pandas as pd\n",
    "import numpy as np\n",
    "student={'Name':['MANISH','ROHAN','SAHIL','ANSU','SUBRAKANT','DEBJEET','ASHWINI','SUBRANSHU','SOLO','SUVRA'],\n",
    "         'Roll_no':[1,2,3,4,5,6,7,8,9,10],\n",
    "         'Age':[19,19,18,19,19,19,20,19,19,19],\n",
    "         'M1':[88,96,85,73,64,np.nan,54,63,45,99],\n",
    "         'M2':[98,96,85,73,74,39,64,63,45,99],\n",
    "         'M3':[88,96,np.nan,73,64,39,54,63,45,99],\n",
    "         'M4':[88,96,85,73,64,39,54,63,45,99]}\n",
    "df=pd.DataFrame(student)\n",
    "print(df)"
   ]
  },
  {
   "cell_type": "code",
   "execution_count": 3,
   "id": "f1c31090-7e22-4343-938b-240e37ffd051",
   "metadata": {},
   "outputs": [
    {
     "data": {
      "text/html": [
       "<div>\n",
       "<style scoped>\n",
       "    .dataframe tbody tr th:only-of-type {\n",
       "        vertical-align: middle;\n",
       "    }\n",
       "\n",
       "    .dataframe tbody tr th {\n",
       "        vertical-align: top;\n",
       "    }\n",
       "\n",
       "    .dataframe thead th {\n",
       "        text-align: right;\n",
       "    }\n",
       "</style>\n",
       "<table border=\"1\" class=\"dataframe\">\n",
       "  <thead>\n",
       "    <tr style=\"text-align: right;\">\n",
       "      <th></th>\n",
       "      <th>Name</th>\n",
       "      <th>Roll_no</th>\n",
       "      <th>Age</th>\n",
       "      <th>M1</th>\n",
       "      <th>M2</th>\n",
       "      <th>M3</th>\n",
       "      <th>M4</th>\n",
       "    </tr>\n",
       "  </thead>\n",
       "  <tbody>\n",
       "    <tr>\n",
       "      <th>0</th>\n",
       "      <td>MANISH</td>\n",
       "      <td>1</td>\n",
       "      <td>19</td>\n",
       "      <td>88.0</td>\n",
       "      <td>98</td>\n",
       "      <td>88.0</td>\n",
       "      <td>88</td>\n",
       "    </tr>\n",
       "    <tr>\n",
       "      <th>1</th>\n",
       "      <td>ROHAN</td>\n",
       "      <td>2</td>\n",
       "      <td>19</td>\n",
       "      <td>96.0</td>\n",
       "      <td>96</td>\n",
       "      <td>96.0</td>\n",
       "      <td>96</td>\n",
       "    </tr>\n",
       "    <tr>\n",
       "      <th>3</th>\n",
       "      <td>ANSU</td>\n",
       "      <td>4</td>\n",
       "      <td>19</td>\n",
       "      <td>73.0</td>\n",
       "      <td>73</td>\n",
       "      <td>73.0</td>\n",
       "      <td>73</td>\n",
       "    </tr>\n",
       "    <tr>\n",
       "      <th>4</th>\n",
       "      <td>SUBRAKANT</td>\n",
       "      <td>5</td>\n",
       "      <td>19</td>\n",
       "      <td>64.0</td>\n",
       "      <td>74</td>\n",
       "      <td>64.0</td>\n",
       "      <td>64</td>\n",
       "    </tr>\n",
       "    <tr>\n",
       "      <th>6</th>\n",
       "      <td>ASHWINI</td>\n",
       "      <td>7</td>\n",
       "      <td>20</td>\n",
       "      <td>54.0</td>\n",
       "      <td>64</td>\n",
       "      <td>54.0</td>\n",
       "      <td>54</td>\n",
       "    </tr>\n",
       "    <tr>\n",
       "      <th>7</th>\n",
       "      <td>SUBRANSHU</td>\n",
       "      <td>8</td>\n",
       "      <td>19</td>\n",
       "      <td>63.0</td>\n",
       "      <td>63</td>\n",
       "      <td>63.0</td>\n",
       "      <td>63</td>\n",
       "    </tr>\n",
       "    <tr>\n",
       "      <th>8</th>\n",
       "      <td>SOLO</td>\n",
       "      <td>9</td>\n",
       "      <td>19</td>\n",
       "      <td>45.0</td>\n",
       "      <td>45</td>\n",
       "      <td>45.0</td>\n",
       "      <td>45</td>\n",
       "    </tr>\n",
       "    <tr>\n",
       "      <th>9</th>\n",
       "      <td>SUVRA</td>\n",
       "      <td>10</td>\n",
       "      <td>19</td>\n",
       "      <td>99.0</td>\n",
       "      <td>99</td>\n",
       "      <td>99.0</td>\n",
       "      <td>99</td>\n",
       "    </tr>\n",
       "  </tbody>\n",
       "</table>\n",
       "</div>"
      ],
      "text/plain": [
       "        Name  Roll_no  Age    M1  M2    M3  M4\n",
       "0     MANISH        1   19  88.0  98  88.0  88\n",
       "1      ROHAN        2   19  96.0  96  96.0  96\n",
       "3       ANSU        4   19  73.0  73  73.0  73\n",
       "4  SUBRAKANT        5   19  64.0  74  64.0  64\n",
       "6    ASHWINI        7   20  54.0  64  54.0  54\n",
       "7  SUBRANSHU        8   19  63.0  63  63.0  63\n",
       "8       SOLO        9   19  45.0  45  45.0  45\n",
       "9      SUVRA       10   19  99.0  99  99.0  99"
      ]
     },
     "execution_count": 3,
     "metadata": {},
     "output_type": "execute_result"
    }
   ],
   "source": [
    "df.dropna()"
   ]
  },
  {
   "cell_type": "code",
   "execution_count": 6,
   "id": "d7c7c149-cdce-48ad-b2f0-c42e69f7b9bf",
   "metadata": {},
   "outputs": [
    {
     "name": "stdout",
     "output_type": "stream",
     "text": [
      "        Name  Roll_no  Age    M1  M2    M3  M4\n",
      "0     MANISH        1   19  88.0  98  88.0  88\n",
      "1      ROHAN        2   19  96.0  96  96.0  96\n",
      "2      SAHIL        3   18  85.0  85   NaN  85\n",
      "3       ANSU        4   19  73.0  73  73.0  73\n",
      "4  SUBRAKANT        5   19  64.0  74  64.0  64\n",
      "5    DEBJEET        6   19   NaN  39  39.0  39\n",
      "6    ASHWINI        7   20  54.0  64  54.0  54\n",
      "7  SUBRANSHU        8   19  63.0  63  63.0  63\n",
      "8       SOLO        9   19  45.0  45  45.0  45\n",
      "9      SUVRA       10   19  99.0  99  99.0  99\n"
     ]
    }
   ],
   "source": [
    "import pandas as pd\n",
    "import numpy as np\n",
    "student={'Name':['MANISH','ROHAN','SAHIL','ANSU','SUBRAKANT','DEBJEET','ASHWINI','SUBRANSHU','SOLO','SUVRA'],\n",
    "         'Roll_no':[1,2,3,4,5,6,7,8,9,10],\n",
    "         'Age':[19,19,18,19,19,19,20,19,19,19],\n",
    "         'M1':[88,96,85,73,64,np.nan,54,63,45,99],\n",
    "         'M2':[98,96,85,73,74,39,64,63,45,99],\n",
    "         'M3':[88,96,np.nan,73,64,39,54,63,45,99],\n",
    "         'M4':[88,96,85,73,64,39,54,63,45,99]}\n",
    "df=pd.DataFrame(student)\n",
    "print(df)"
   ]
  },
  {
   "cell_type": "code",
   "execution_count": 7,
   "id": "e92415c4-67f3-4618-b45b-908cbf232e05",
   "metadata": {},
   "outputs": [
    {
     "data": {
      "text/html": [
       "<div>\n",
       "<style scoped>\n",
       "    .dataframe tbody tr th:only-of-type {\n",
       "        vertical-align: middle;\n",
       "    }\n",
       "\n",
       "    .dataframe tbody tr th {\n",
       "        vertical-align: top;\n",
       "    }\n",
       "\n",
       "    .dataframe thead th {\n",
       "        text-align: right;\n",
       "    }\n",
       "</style>\n",
       "<table border=\"1\" class=\"dataframe\">\n",
       "  <thead>\n",
       "    <tr style=\"text-align: right;\">\n",
       "      <th></th>\n",
       "      <th>Name</th>\n",
       "      <th>Roll_no</th>\n",
       "      <th>Age</th>\n",
       "      <th>M1</th>\n",
       "      <th>M2</th>\n",
       "      <th>M3</th>\n",
       "      <th>M4</th>\n",
       "    </tr>\n",
       "  </thead>\n",
       "  <tbody>\n",
       "    <tr>\n",
       "      <th>0</th>\n",
       "      <td>MANISH</td>\n",
       "      <td>1</td>\n",
       "      <td>19</td>\n",
       "      <td>88.0</td>\n",
       "      <td>98</td>\n",
       "      <td>88.0</td>\n",
       "      <td>88</td>\n",
       "    </tr>\n",
       "    <tr>\n",
       "      <th>1</th>\n",
       "      <td>ROHAN</td>\n",
       "      <td>2</td>\n",
       "      <td>19</td>\n",
       "      <td>96.0</td>\n",
       "      <td>96</td>\n",
       "      <td>96.0</td>\n",
       "      <td>96</td>\n",
       "    </tr>\n",
       "    <tr>\n",
       "      <th>2</th>\n",
       "      <td>SAHIL</td>\n",
       "      <td>3</td>\n",
       "      <td>18</td>\n",
       "      <td>85.0</td>\n",
       "      <td>85</td>\n",
       "      <td>999.0</td>\n",
       "      <td>85</td>\n",
       "    </tr>\n",
       "    <tr>\n",
       "      <th>3</th>\n",
       "      <td>ANSU</td>\n",
       "      <td>4</td>\n",
       "      <td>19</td>\n",
       "      <td>73.0</td>\n",
       "      <td>73</td>\n",
       "      <td>73.0</td>\n",
       "      <td>73</td>\n",
       "    </tr>\n",
       "    <tr>\n",
       "      <th>4</th>\n",
       "      <td>SUBRAKANT</td>\n",
       "      <td>5</td>\n",
       "      <td>19</td>\n",
       "      <td>64.0</td>\n",
       "      <td>74</td>\n",
       "      <td>64.0</td>\n",
       "      <td>64</td>\n",
       "    </tr>\n",
       "    <tr>\n",
       "      <th>5</th>\n",
       "      <td>DEBJEET</td>\n",
       "      <td>6</td>\n",
       "      <td>19</td>\n",
       "      <td>999.0</td>\n",
       "      <td>39</td>\n",
       "      <td>39.0</td>\n",
       "      <td>39</td>\n",
       "    </tr>\n",
       "    <tr>\n",
       "      <th>6</th>\n",
       "      <td>ASHWINI</td>\n",
       "      <td>7</td>\n",
       "      <td>20</td>\n",
       "      <td>54.0</td>\n",
       "      <td>64</td>\n",
       "      <td>54.0</td>\n",
       "      <td>54</td>\n",
       "    </tr>\n",
       "    <tr>\n",
       "      <th>7</th>\n",
       "      <td>SUBRANSHU</td>\n",
       "      <td>8</td>\n",
       "      <td>19</td>\n",
       "      <td>63.0</td>\n",
       "      <td>63</td>\n",
       "      <td>63.0</td>\n",
       "      <td>63</td>\n",
       "    </tr>\n",
       "    <tr>\n",
       "      <th>8</th>\n",
       "      <td>SOLO</td>\n",
       "      <td>9</td>\n",
       "      <td>19</td>\n",
       "      <td>45.0</td>\n",
       "      <td>45</td>\n",
       "      <td>45.0</td>\n",
       "      <td>45</td>\n",
       "    </tr>\n",
       "    <tr>\n",
       "      <th>9</th>\n",
       "      <td>SUVRA</td>\n",
       "      <td>10</td>\n",
       "      <td>19</td>\n",
       "      <td>99.0</td>\n",
       "      <td>99</td>\n",
       "      <td>99.0</td>\n",
       "      <td>99</td>\n",
       "    </tr>\n",
       "  </tbody>\n",
       "</table>\n",
       "</div>"
      ],
      "text/plain": [
       "        Name  Roll_no  Age     M1  M2     M3  M4\n",
       "0     MANISH        1   19   88.0  98   88.0  88\n",
       "1      ROHAN        2   19   96.0  96   96.0  96\n",
       "2      SAHIL        3   18   85.0  85  999.0  85\n",
       "3       ANSU        4   19   73.0  73   73.0  73\n",
       "4  SUBRAKANT        5   19   64.0  74   64.0  64\n",
       "5    DEBJEET        6   19  999.0  39   39.0  39\n",
       "6    ASHWINI        7   20   54.0  64   54.0  54\n",
       "7  SUBRANSHU        8   19   63.0  63   63.0  63\n",
       "8       SOLO        9   19   45.0  45   45.0  45\n",
       "9      SUVRA       10   19   99.0  99   99.0  99"
      ]
     },
     "execution_count": 7,
     "metadata": {},
     "output_type": "execute_result"
    }
   ],
   "source": [
    "df.fillna(999)\n"
   ]
  },
  {
   "cell_type": "code",
   "execution_count": 9,
   "id": "4fed3b43-ffd9-4c99-a9f0-2ee9c6ca3981",
   "metadata": {},
   "outputs": [
    {
     "name": "stdout",
     "output_type": "stream",
     "text": [
      "        Name  Roll_no  Age    M1  M2    M3  M4\n",
      "0     MANISH        1   19  88.0  98  88.0  88\n",
      "1      ROHAN        2   19  96.0  96  96.0  96\n",
      "2      SAHIL        3   18  85.0  85   NaN  85\n",
      "3       ANSU        4   19  73.0  73  73.0  73\n",
      "4  SUBRAKANT        5   19  64.0  74  64.0  64\n",
      "5    DEBJEET        6   19   NaN  39  39.0  39\n",
      "6    ASHWINI        7   20  54.0  64  54.0  54\n",
      "7  SUBRANSHU        8   19  63.0  63  63.0  63\n",
      "8       SOLO        9   19  45.0  45  45.0  45\n",
      "9      SUVRA       10   19  99.0  99  99.0  99\n"
     ]
    }
   ],
   "source": [
    "import pandas as pd\n",
    "import numpy as np\n",
    "student={'Name':['MANISH','ROHAN','SAHIL','ANSU','SUBRAKANT','DEBJEET','ASHWINI','SUBRANSHU','SOLO','SUVRA'],\n",
    "         'Roll_no':[1,2,3,4,5,6,7,8,9,10],\n",
    "         'Age':[19,19,18,19,19,19,20,19,19,19],\n",
    "         'M1':[88,96,85,73,64,np.nan,54,63,45,99],\n",
    "         'M2':[98,96,85,73,74,39,64,63,45,99],\n",
    "         'M3':[88,96,np.nan,73,64,39,54,63,45,99],\n",
    "         'M4':[88,96,85,73,64,39,54,63,45,99]}\n",
    "df=pd.DataFrame(student)\n",
    "print(df)"
   ]
  },
  {
   "cell_type": "code",
   "execution_count": 10,
   "id": "04942cd9-7846-41f7-a48d-1518eb183542",
   "metadata": {},
   "outputs": [
    {
     "data": {
      "text/plain": [
       "0    88.0\n",
       "1    96.0\n",
       "2    85.0\n",
       "3    73.0\n",
       "4    64.0\n",
       "5    88.0\n",
       "6    54.0\n",
       "7    63.0\n",
       "8    45.0\n",
       "9    99.0\n",
       "Name: M1, dtype: float64"
      ]
     },
     "execution_count": 10,
     "metadata": {},
     "output_type": "execute_result"
    }
   ],
   "source": [
    "df[\"M1\"].fillna(88)"
   ]
  },
  {
   "cell_type": "code",
   "execution_count": 11,
   "id": "1c3aee33-db71-4cbc-83f6-70d69b121992",
   "metadata": {},
   "outputs": [
    {
     "data": {
      "text/plain": [
       "0    88.0\n",
       "1    96.0\n",
       "2    69.0\n",
       "3    73.0\n",
       "4    64.0\n",
       "5    39.0\n",
       "6    54.0\n",
       "7    63.0\n",
       "8    45.0\n",
       "9    99.0\n",
       "Name: M3, dtype: float64"
      ]
     },
     "execution_count": 11,
     "metadata": {},
     "output_type": "execute_result"
    }
   ],
   "source": [
    "x=df[\"M3\"].mean()\n",
    "df[\"M3\"].fillna(x)"
   ]
  },
  {
   "cell_type": "code",
   "execution_count": 12,
   "id": "f3e5a7e8-04f4-4984-a5e7-1275b334d0b8",
   "metadata": {},
   "outputs": [],
   "source": [
    "import pandas as pd\n",
    "import numpy as np\n",
    "student={'Name':['MANISH','ROHAN','SAHIL','ANSU','SUBRAKANT','DEBJEET','ASHWINI','SUBRANSHU','SOLO','SUVRA'],\n",
    "         'Roll_no':[1,2,3,4,5,6,7,8,9,10],\n",
    "         'Age':[19,19,18,19,19,19,20,19,19,19],\n",
    "         'M1':[88,96,85,73,64,np.nan,54,63,45,99],\n",
    "         'M2':[98,96,85,73,74,39,64,63,45,99],\n",
    "         'M3':[88,96,np.nan,73,64,39,54,63,45,99],\n",
    "         'M4':[88,96,85,73,64,39,54,63,45,99]}\n",
    "df=pd.DataFrame(student)\n"
   ]
  },
  {
   "cell_type": "code",
   "execution_count": 13,
   "id": "e8f1d181-3198-40a3-bfcb-72cc38ad4dee",
   "metadata": {},
   "outputs": [
    {
     "data": {
      "text/plain": [
       "0    88.0\n",
       "1    96.0\n",
       "2    85.0\n",
       "3    73.0\n",
       "4    64.0\n",
       "5    73.0\n",
       "6    54.0\n",
       "7    63.0\n",
       "8    45.0\n",
       "9    99.0\n",
       "Name: M1, dtype: float64"
      ]
     },
     "execution_count": 13,
     "metadata": {},
     "output_type": "execute_result"
    }
   ],
   "source": [
    "y=df[\"M1\"].median()\n",
    "df[\"M1\"].fillna(y)"
   ]
  },
  {
   "cell_type": "code",
   "execution_count": 48,
   "id": "43957db3-709c-4386-9c0c-e3bf468fa788",
   "metadata": {},
   "outputs": [],
   "source": []
  },
  {
   "cell_type": "code",
   "execution_count": 14,
   "id": "03c9cd60-8925-499a-8c87-7081d6d42ba2",
   "metadata": {},
   "outputs": [
    {
     "data": {
      "text/plain": [
       "0      88.0\n",
       "1      96.0\n",
       "2       NaN\n",
       "3      73.0\n",
       "4      64.0\n",
       "5    7896.0\n",
       "6      54.0\n",
       "7      63.0\n",
       "8      45.0\n",
       "9      99.0\n",
       "Name: M3, dtype: float64"
      ]
     },
     "execution_count": 14,
     "metadata": {},
     "output_type": "execute_result"
    }
   ],
   "source": [
    "df.loc[5,'M3']=7896\n",
    "df['M3']"
   ]
  },
  {
   "cell_type": "code",
   "execution_count": 15,
   "id": "1f68837a-567c-4c82-80df-654ca31fcf59",
   "metadata": {},
   "outputs": [
    {
     "name": "stdout",
     "output_type": "stream",
     "text": [
      "2       NaN\n",
      "5    7896.0\n",
      "Name: M3, dtype: float64\n"
     ]
    }
   ],
   "source": [
    "for x in df.index:\n",
    "    if df.loc[x,'M3']<100:\n",
    "        df.drop(x,inplace=True)\n",
    "print(df['M3'])        "
   ]
  },
  {
   "cell_type": "code",
   "execution_count": 17,
   "id": "c5bd1da8-7ed2-407a-9912-9cf9873af56a",
   "metadata": {},
   "outputs": [],
   "source": [
    "import pandas as pd\n",
    "import numpy as np\n",
    "student={'Name':['MANISH','ROHAN','SAHIL','ANSU','SUBRAKANT','DEBJEET','ASHWINI','SUBRANSHU','SOLO','SUVRA'],\n",
    "         'Roll_no':[1,2,3,4,5,6,7,8,9,10],\n",
    "         'Age':[19,19,18,19,19,19,20,19,19,19],\n",
    "         'M1':[88,96,85,73,64,np.nan,54,63,45,99],\n",
    "         'M2':[98,96,85,73,74,39,64,63,45,99],\n",
    "         'M3':[88,96,np.nan,73,64,39,54,63,45,99],\n",
    "         'M4':[88,96,85,73,64,39,54,63,45,99]}\n",
    "df=pd.DataFrame(student)"
   ]
  },
  {
   "cell_type": "code",
   "execution_count": 18,
   "id": "cd3c7c0b-3d42-477f-90e2-6833be938353",
   "metadata": {},
   "outputs": [
    {
     "name": "stdout",
     "output_type": "stream",
     "text": [
      "0    88.0\n",
      "1    96.0\n",
      "2     NaN\n",
      "3    73.0\n",
      "4    64.0\n",
      "5    39.0\n",
      "6    54.0\n",
      "7    63.0\n",
      "8    45.0\n",
      "9    99.0\n",
      "Name: M3, dtype: float64\n"
     ]
    }
   ],
   "source": [
    "for x in df.index:\n",
    "    if df.loc[x,'M3']>100:\n",
    "        df.drop(x,inplace=True)\n",
    "print(df['M3'])  "
   ]
  },
  {
   "cell_type": "code",
   "execution_count": 19,
   "id": "ef466185-92b9-468f-9630-f22b48e5761f",
   "metadata": {},
   "outputs": [],
   "source": [
    "import pandas as pd\n",
    "import numpy as np\n",
    "student={'Name':['MANISH','ROHAN','SAHIL','ANSU','SUBRAKANT','DEBJEET','ASHWINI','SUBRANSHU','SOLO','SUVRA'],\n",
    "         'Roll_no':[1,2,3,4,5,6,7,8,9,10],\n",
    "         'Age':[19,19,18,19,19,19,20,19,19,19],\n",
    "         'M1':[88,96,85,73,64,np.nan,54,63,45,99],\n",
    "         'M2':[98,96,85,73,74,39,64,63,45,99],\n",
    "         'M3':[88,96,np.nan,73,64,39,54,63,45,99],\n",
    "         'M4':[88,96,85,73,64,39,54,63,45,99]}\n",
    "df=pd.DataFrame(student)"
   ]
  },
  {
   "cell_type": "code",
   "execution_count": null,
   "id": "6bdb109b-c297-45c3-a9eb-deebc01f57fa",
   "metadata": {},
   "outputs": [],
   "source": [
    "df[['M1','M2','M3']].corr()"
   ]
  },
  {
   "cell_type": "code",
   "execution_count": null,
   "id": "0dcd8193-e785-480e-9cd3-8167ac6d2eec",
   "metadata": {},
   "outputs": [],
   "source": []
  }
 ],
 "metadata": {
  "kernelspec": {
   "display_name": "Python 3 (ipykernel)",
   "language": "python",
   "name": "python3"
  },
  "language_info": {
   "codemirror_mode": {
    "name": "ipython",
    "version": 3
   },
   "file_extension": ".py",
   "mimetype": "text/x-python",
   "name": "python",
   "nbconvert_exporter": "python",
   "pygments_lexer": "ipython3",
   "version": "3.12.2"
  }
 },
 "nbformat": 4,
 "nbformat_minor": 5
}
